{
 "cells": [
  {
   "cell_type": "markdown",
   "metadata": {},
   "source": [
    "# Shapes and Figures"
   ]
  },
  {
   "cell_type": "markdown",
   "metadata": {},
   "source": [
    "## Circle"
   ]
  },
  {
   "cell_type": "code",
   "execution_count": 1,
   "metadata": {},
   "outputs": [],
   "source": [
    "import matplotlib.pyplot as plt"
   ]
  },
  {
   "cell_type": "code",
   "execution_count": 2,
   "metadata": {},
   "outputs": [],
   "source": [
    "def create_circle(r):\n",
    "    circle = plt.Circle((0,0), radius = r) # a built-in function\n",
    "    return circle"
   ]
  },
  {
   "cell_type": "code",
   "execution_count": 3,
   "metadata": {},
   "outputs": [],
   "source": [
    "def show_shape(patch):\n",
    "    ax = plt.gca() # returns a reference to the Axes\n",
    "    ax.add_patch(patch)\n",
    "    plt.axis('scaled')\n",
    "    plt.show()"
   ]
  },
  {
   "cell_type": "code",
   "execution_count": 4,
   "metadata": {},
   "outputs": [
    {
     "data": {
      "image/png": "[encoded data removed]",
      "text/plain": [
       "<Figure size 432x288 with 1 Axes>"
      ]
     },
     "metadata": {
      "needs_background": "light"
     },
     "output_type": "display_data"
    }
   ],
   "source": [
    "if __name__ == '__main__':\n",
    "    c = create_circle(0.5)\n",
    "    show_shape(c)"
   ]
  },
  {
   "cell_type": "markdown",
   "metadata": {},
   "source": [
    "## Ellipse"
   ]
  },
  {
   "cell_type": "code",
   "execution_count": 5,
   "metadata": {},
   "outputs": [],
   "source": [
    "def create_ellipse(w = 2, h=1):\n",
    "    from matplotlib.patches import Ellipse\n",
    "    ellipse = Ellipse((0,0), w, h) # a built-in function\n",
    "    return ellipse"
   ]
  },
  {
   "cell_type": "code",
   "execution_count": 6,
   "metadata": {},
   "outputs": [
    {
     "data": {
      "image/png": "[encoded data removed]",
      "text/plain": [
       "<Figure size 432x288 with 1 Axes>"
      ]
     },
     "metadata": {
      "needs_background": "light"
     },
     "output_type": "display_data"
    }
   ],
   "source": [
    "if __name__ == '__main__':\n",
    "    c = create_ellipse(5, 3.5)\n",
    "    show_shape(c)"
   ]
  },
  {
   "cell_type": "markdown",
   "metadata": {},
   "source": [
    "## Rectangle"
   ]
  },
  {
   "cell_type": "code",
   "execution_count": 7,
   "metadata": {},
   "outputs": [],
   "source": [
    "def create_polygon(w = 2, h=1):\n",
    "    from matplotlib.patches import Rectangle\n",
    "    rectangle = Rectangle((0,0), w, h) # a built-in function\n",
    "    return rectangle"
   ]
  },
  {
   "cell_type": "code",
   "execution_count": 8,
   "metadata": {},
   "outputs": [
    {
     "data": {
      "image/png": "[encoded data removed]",
      "text/plain": [
       "<Figure size 432x288 with 1 Axes>"
      ]
     },
     "metadata": {
      "needs_background": "light"
     },
     "output_type": "display_data"
    }
   ],
   "source": [
    "if __name__ == '__main__':\n",
    "    c = create_polygon(5, 3.5)\n",
    "    show_shape(c)"
   ]
  },
  {
   "cell_type": "markdown",
   "metadata": {},
   "source": [
    "## Animated Figures"
   ]
  },
  {
   "cell_type": "code",
   "execution_count": 9,
   "metadata": {},
   "outputs": [],
   "source": [
    "from matplotlib import pyplot as plt\n",
    "from matplotlib import animation"
   ]
  },
  {
   "cell_type": "code",
   "execution_count": 10,
   "metadata": {},
   "outputs": [],
   "source": [
    "def create_circle():\n",
    "    circle = plt.Circle((0,0), 0.05) # a built-in function\n",
    "    return circle"
   ]
  },
  {
   "cell_type": "code",
   "execution_count": 11,
   "metadata": {},
   "outputs": [],
   "source": [
    "def update_radius(i, circle):\n",
    "    circle.radius = i * 0.5\n",
    "    return circle,"
   ]
  },
  {
   "cell_type": "code",
   "execution_count": 12,
   "metadata": {},
   "outputs": [],
   "source": [
    "def create_animation():\n",
    "    fig = plt.figure()\n",
    "    #fig = plt.gcf()\n",
    "    ax = plt.axes(xlim=(-10, 10), ylim=(-10, 10))\n",
    "    ax.set_aspect('equal')\n",
    "    circle = create_circle()\n",
    "    ax.add_patch(circle)\n",
    "    anim = animation.FuncAnimation(fig, update_radius, fargs = (circle,), frames=30, interval=50, blit=True)\n",
    "    plt.title('Simple Circle Animation')\n",
    "    plt.show()"
   ]
  },
  {
   "cell_type": "code",
   "execution_count": 13,
   "metadata": {},
   "outputs": [],
   "source": [
    "import matplotlib; matplotlib.use('TkAgg')\n",
    "%matplotlib tk #still doesn't work\n",
    "if __name__ == '__main__':\n",
    "    create_animation()"
   ]
  },
  {
   "cell_type": "markdown",
   "metadata": {},
   "source": [
    "## Aimating a Projectile's Trajectory"
   ]
  },
  {
   "cell_type": "code",
   "execution_count": 29,
   "metadata": {},
   "outputs": [],
   "source": [
    "from matplotlib import pyplot as plt\n",
    "from matplotlib import animation\n",
    "import scipy.constants as const\n",
    "import math"
   ]
  },
  {
   "cell_type": "code",
   "execution_count": 30,
   "metadata": {},
   "outputs": [],
   "source": [
    "g = const.g"
   ]
  },
  {
   "cell_type": "code",
   "execution_count": 31,
   "metadata": {},
   "outputs": [],
   "source": [
    "def get_intervals(u, theta):\n",
    "    t_flight = 2 * u * math.sin(theta) / g\n",
    "    intervals = []\n",
    "    start = 0\n",
    "    interval = 0.005\n",
    "    while start < t_flight:\n",
    "        intervals.append(start)\n",
    "        start += interval\n",
    "    return intervals"
   ]
  },
  {
   "cell_type": "code",
   "execution_count": 32,
   "metadata": {},
   "outputs": [],
   "source": [
    "def update_position(i, circle, intervals, u, theta):\n",
    "    t = intervals[i]\n",
    "    x = u * math.cos(theta) * t\n",
    "    y = u * math.sin(theta) * t - 0.5 * g * t * t\n",
    "    circle.center = x, y\n",
    "    return circle,"
   ]
  },
  {
   "cell_type": "code",
   "execution_count": 35,
   "metadata": {},
   "outputs": [],
   "source": [
    "def create_animation(u, theta):\n",
    "    \n",
    "    intervals = get_intervals(u, theta)\n",
    "    \n",
    "    xmin = 0\n",
    "    xmax = u * math.cos(theta) * intervals[-1]\n",
    "    ymin = 0\n",
    "    t_max = u * math.sin(theta) / g\n",
    "    ymax = u * math.sin(theta) * t_max - 0.5 * g * t_max ** 2\n",
    "    fig = plt.gcf()\n",
    "    ax = plt.axes(xlim=(xmin, xmax), ylim=(ymin, ymax))\n",
    "    \n",
    "    circle = plt.Circle((xmin, ymin), 1.0)\n",
    "    ax.add_patch(circle)\n",
    "    anim = animation.FuncAnimation(fig, update_position,\n",
    "                                   fargs=(circle, intervals, u, theta),\n",
    "                                  frames=len(intervals), interval = 1,\n",
    "                                  repeat=False)\n",
    "    plt.title('Projectile Motion')\n",
    "    plt.xlabel('X')\n",
    "    plt.ylabel('Y')\n",
    "    plt.show()"
   ]
  },
  {
   "cell_type": "code",
   "execution_count": 36,
   "metadata": {},
   "outputs": [
    {
     "name": "stdout",
     "output_type": "stream",
     "text": [
      "Enter the initial velocity (m/s): 25\n",
      "Enter the angle of projection (degrees): 40\n"
     ]
    }
   ],
   "source": [
    "if __name__ == '__main__':\n",
    "    try:\n",
    "        u = float(input('Enter the initial velocity (m/s): '))\n",
    "        theta = float(input('Enter the angle of projection (degrees): '))\n",
    "    except ValueError:\n",
    "        print('You entered an invalid input')\n",
    "    else:\n",
    "        theta = math.radians(theta)\n",
    "        create_animation(u, theta)"
   ]
  },
  {
   "cell_type": "markdown",
   "metadata": {},
   "source": [
    "## Разбираем код\n",
    "\n",
    "**update_position()** - функция перемещает центр окружности в каждом из фреймов. Фрейм создается для каждого нового временного интервала, так что их число соответствует количеству интервалов. Также обновляются координаты мяча.\n",
    "\n",
    "**fargs** - функция update_position() должна иметь доступ к характеристикам: временным интевалам, начальной скорости, углу (тета), они и содержатся в аргументе.\n",
    "\n",
    "**frames** - поскольку мы отображаем один фрейм за временной интвал, мы приводим число фреймов в соответствие со списком интервалов.\n",
    "\n",
    "**repeat** - аргумент повтора для анимации, может принимать значения True и False."
   ]
  },
  {
   "cell_type": "markdown",
   "metadata": {},
   "source": [
    "# Drawing Fractals"
   ]
  },
  {
   "cell_type": "code",
   "execution_count": 1,
   "metadata": {},
   "outputs": [],
   "source": [
    "import matplotlib.pyplot as plt\n",
    "import random"
   ]
  },
  {
   "cell_type": "code",
   "execution_count": 2,
   "metadata": {},
   "outputs": [],
   "source": [
    "def transformation_1(p):\n",
    "    x = p[0]\n",
    "    y = p[1]\n",
    "    return x + 1, y - 1"
   ]
  },
  {
   "cell_type": "code",
   "execution_count": 3,
   "metadata": {},
   "outputs": [],
   "source": [
    "def transformation_2(p):\n",
    "    x = p[0]\n",
    "    y = p[1]\n",
    "    return x + 1, y + 1"
   ]
  },
  {
   "cell_type": "code",
   "execution_count": 4,
   "metadata": {},
   "outputs": [],
   "source": [
    "def transform(p):\n",
    "    transformations = [transformation_1, transformation_2]\n",
    "    t = random.choice(transformations)\n",
    "    x, y = t(p)\n",
    "    return x, y"
   ]
  },
  {
   "cell_type": "code",
   "execution_count": 12,
   "metadata": {},
   "outputs": [],
   "source": [
    "def build_trajectory(p, n):\n",
    "    x = [p[0]]\n",
    "    y = [p[1]]\n",
    "    for i in range(n):\n",
    "        p = transform(p)\n",
    "        x.append(p[0])\n",
    "        y.append(p[1])\n",
    "    return x, y"
   ]
  },
  {
   "cell_type": "code",
   "execution_count": 14,
   "metadata": {},
   "outputs": [
    {
     "name": "stdout",
     "output_type": "stream",
     "text": [
      "Enter the number of iterations: 100\n"
     ]
    },
    {
     "data": {
      "image/png": "[encoded data removed]",
      "text/plain": [
       "<Figure size 432x288 with 1 Axes>"
      ]
     },
     "metadata": {
      "needs_background": "light"
     },
     "output_type": "display_data"
    }
   ],
   "source": [
    "if __name__ == '__main__':\n",
    "    p = (1, 1)\n",
    "    n = int(input('Enter the number of iterations: '))\n",
    "    x, y = build_trajectory(p, n)\n",
    "    plt.plot(x, y)\n",
    "    plt.xlabel('X')\n",
    "    plt.ylabel('Y')\n",
    "    plt.show()"
   ]
  },
  {
   "cell_type": "markdown",
   "metadata": {},
   "source": [
    "# Drawing the Barnsley Fern"
   ]
  },
  {
   "cell_type": "code",
   "execution_count": 15,
   "metadata": {},
   "outputs": [],
   "source": [
    "import matplotlib.pyplot as plt\n",
    "import random"
   ]
  },
  {
   "cell_type": "code",
   "execution_count": 29,
   "metadata": {},
   "outputs": [],
   "source": [
    "def transformation_1(p):\n",
    "    x = p[0]\n",
    "    y = p[1]\n",
    "    x_1 = 0.85 * x + 0.04 * y\n",
    "    y_1 = -0.04 * x + 0.85 * y + 1.6\n",
    "    return x_1, y_1"
   ]
  },
  {
   "cell_type": "code",
   "execution_count": 17,
   "metadata": {},
   "outputs": [],
   "source": [
    "def transformation_2(p):\n",
    "    x = p[0]\n",
    "    y = p[1]\n",
    "    x_1 = 0.2 * x - 0.26 * y\n",
    "    y_1 = 0.23 * x + 0.22 * y + 1.6\n",
    "    return x_1, y_1"
   ]
  },
  {
   "cell_type": "code",
   "execution_count": 18,
   "metadata": {},
   "outputs": [],
   "source": [
    "def transformation_3(p):\n",
    "    x = p[0]\n",
    "    y = p[1]\n",
    "    x_1 = -0.15*x + 0.28 * y\n",
    "    y_1 = 0.26 * x + 0.24 * y + 0.44\n",
    "    return x_1, y_1"
   ]
  },
  {
   "cell_type": "code",
   "execution_count": 19,
   "metadata": {},
   "outputs": [],
   "source": [
    "def transformation_4(p):\n",
    "    x = p[0]\n",
    "    y = p[1]\n",
    "    x_1 = 0\n",
    "    y_1 = 0.16 * y\n",
    "    return x_1, y_1"
   ]
  },
  {
   "cell_type": "code",
   "execution_count": 20,
   "metadata": {},
   "outputs": [],
   "source": [
    "def get_index(probability):\n",
    "    r = random.random()\n",
    "    c_probability = 0\n",
    "    sum_probability = []\n",
    "    for p in probability:\n",
    "        c_probability += p\n",
    "        sum_probability.append(c_probability)\n",
    "    for item, sp in enumerate(sum_probability):\n",
    "        if r <= sp:\n",
    "            return item\n",
    "    return len(probability)-1"
   ]
  },
  {
   "cell_type": "code",
   "execution_count": 21,
   "metadata": {},
   "outputs": [],
   "source": [
    "def transform(p):\n",
    "    transformations = [transformation_1, transformation_2, transformation_3, transformation_4]\n",
    "    probability = [0.85, 0.07, 0.07, 0.01]\n",
    "    tindex = get_index(probability)\n",
    "    t = transformations[tindex]\n",
    "    x, y = t(p)\n",
    "    return x, y"
   ]
  },
  {
   "cell_type": "code",
   "execution_count": 24,
   "metadata": {},
   "outputs": [],
   "source": [
    "def draw_fern(n):\n",
    "    x = [0]\n",
    "    y = [0]\n",
    "    \n",
    "    x_1, y_1 = 0, 0\n",
    "    for i in range(n):\n",
    "        x_1, y_1 = transform((x_1, y_1))\n",
    "        x.append(x_1)\n",
    "        y.append(y_1)\n",
    "    return x, y"
   ]
  },
  {
   "cell_type": "code",
   "execution_count": 38,
   "metadata": {},
   "outputs": [
    {
     "name": "stdout",
     "output_type": "stream",
     "text": [
      "Enter the number of points in the Fern: 7392\n"
     ]
    },
    {
     "data": {
      "image/png": "[encoded data removed]",
      "text/plain": [
       "<Figure size 432x288 with 1 Axes>"
      ]
     },
     "metadata": {
      "needs_background": "light"
     },
     "output_type": "display_data"
    }
   ],
   "source": [
    "if __name__ == '__main__':\n",
    "    n = int(input('Enter the number of points in the Fern: '))\n",
    "    x, y = draw_fern(n)\n",
    "    plt.plot(x, y, '.')\n",
    "    plt.title('Fern with {0} points'.format(n))\n",
    "    plt.show()"
   ]
  }
 ],
 "metadata": {
  "kernelspec": {
   "display_name": "Python 3",
   "language": "python",
   "name": "python3"
  },
  "language_info": {
   "codemirror_mode": {
    "name": "ipython",
    "version": 3
   },
   "file_extension": ".py",
   "mimetype": "text/x-python",
   "name": "python",
   "nbconvert_exporter": "python",
   "pygments_lexer": "ipython3",
   "version": "3.6.7"
  }
 },
 "nbformat": 4,
 "nbformat_minor": 2
}
