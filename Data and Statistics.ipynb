{
 "cells": [
  {
   "cell_type": "markdown",
   "metadata": {},
   "source": [
    "## Медиана для списка с четным и нечетным числом элементов"
   ]
  },
  {
   "cell_type": "code",
   "execution_count": 1,
   "metadata": {},
   "outputs": [],
   "source": [
    "def list_median(my_list):\n",
    "    my_list.sort()\n",
    "    if len(my_list) % 2 == 0: # для случая с четным числом элементов\n",
    "        return (my_list[int(len(my_list) / 2 - 1)] + my_list[int(len(my_list) / 2)]) / 2\n",
    "    else:\n",
    "        return my_list[int(len(my_list) / 2)] # нечетный случай"
   ]
  },
  {
   "cell_type": "code",
   "execution_count": 2,
   "metadata": {
    "scrolled": true
   },
   "outputs": [
    {
     "data": {
      "text/plain": [
       "4"
      ]
     },
     "execution_count": 2,
     "metadata": {},
     "output_type": "execute_result"
    }
   ],
   "source": [
    "list_median([1, 2, 3, 4, 5, 6, 7])"
   ]
  },
  {
   "cell_type": "code",
   "execution_count": 3,
   "metadata": {},
   "outputs": [],
   "source": [
    "def list_mode(my_list):\n",
    "    from collections import Counter\n",
    "    com = Counter(my_list)\n",
    "    return com.most_common()[0][0] # можно передать аргумент функции, чобы указать, сколько вернуть, либо использовать индекс"
   ]
  },
  {
   "cell_type": "code",
   "execution_count": 4,
   "metadata": {},
   "outputs": [
    {
     "data": {
      "text/plain": [
       "3"
      ]
     },
     "execution_count": 4,
     "metadata": {},
     "output_type": "execute_result"
    }
   ],
   "source": [
    "list_mode([1,1, 2, 2, 2, 3, 3, 3, 3])"
   ]
  },
  {
   "cell_type": "code",
   "execution_count": 5,
   "metadata": {},
   "outputs": [],
   "source": [
    "def list_mult_mode(my_list):\n",
    "    \"\"\"Return all the modes (single if it's only one in a list)\"\"\"\n",
    "    from collections import Counter\n",
    "    com = Counter(my_list)\n",
    "    com_list = com.most_common()\n",
    "    return [x[0] for x in com_list if x[1] == com_list[0][1]]    "
   ]
  },
  {
   "cell_type": "code",
   "execution_count": 6,
   "metadata": {},
   "outputs": [
    {
     "data": {
      "text/plain": [
       "[1, 3]"
      ]
     },
     "execution_count": 6,
     "metadata": {},
     "output_type": "execute_result"
    }
   ],
   "source": [
    "list_mult_mode([1, 1, 1, 2, 2, 3, 3, 3])"
   ]
  },
  {
   "cell_type": "code",
   "execution_count": 7,
   "metadata": {},
   "outputs": [],
   "source": [
    "def frequency_table(my_list):\n",
    "    \"\"\"Prints a frequency table for all the numbers in a list\"\"\"\n",
    "    from collections import Counter\n",
    "    table = Counter(my_list)\n",
    "#    numbers_frec = table.most_common() #вариант, если нужно отсортировать по элементам, а не по частоте\n",
    "#    numbers_frec.sort()\n",
    "    print('Number/Frequency')\n",
    "    for number in table.most_common():\n",
    "        print('{0}\\t{1}'.format(number[0], number[1]))"
   ]
  },
  {
   "cell_type": "code",
   "execution_count": 8,
   "metadata": {},
   "outputs": [
    {
     "name": "stdout",
     "output_type": "stream",
     "text": [
      "Number/Frequency\n",
      "5\t5\n",
      "3\t4\n",
      "6\t4\n",
      "1\t3\n",
      "4\t3\n",
      "2\t2\n",
      "7\t1\n"
     ]
    }
   ],
   "source": [
    "frequency_table([1,1,1, 2, 2, 3, 3, 3, 3, 4, 4, 4, 5, 5, 5, 5, 5, 6, 6, 6, 6, 7])"
   ]
  },
  {
   "cell_type": "markdown",
   "metadata": {},
   "source": [
    "# Дисперсия случайной величины"
   ]
  },
  {
   "cell_type": "markdown",
   "metadata": {},
   "source": [
    "\\begin{align}\n",
    "\\sigma^2 = \\frac{1}{n} \\sum_{i=1}^n(x_i - \\bar{x})^2\n",
    "\\end{align}"
   ]
  },
  {
   "cell_type": "code",
   "execution_count": 9,
   "metadata": {},
   "outputs": [],
   "source": [
    "def var_list(my_list):\n",
    "    list_mean = sum(my_list) / len(my_list)\n",
    "    var_list = [(x - list_mean) ** 2 for x in my_list]\n",
    "    return sum(var_list) / len(var_list)"
   ]
  },
  {
   "cell_type": "code",
   "execution_count": 10,
   "metadata": {},
   "outputs": [
    {
     "data": {
      "text/plain": [
       "3.134297520661157"
      ]
     },
     "execution_count": 10,
     "metadata": {},
     "output_type": "execute_result"
    }
   ],
   "source": [
    "var_list([1,1,1, 2, 2, 3, 3, 3, 3, 4, 4, 4, 5, 5, 5, 5, 5, 6, 6, 6, 6, 7])"
   ]
  },
  {
   "cell_type": "markdown",
   "metadata": {},
   "source": [
    "# Коэффициент корреляции Пирсона"
   ]
  },
  {
   "cell_type": "markdown",
   "metadata": {},
   "source": [
    "\\begin{align}\n",
    "\\rho = \\frac{{}\\sum_{i=1}^{n} (x_i - \\overline{x})(y_i - \\overline{y})}\n",
    "{\\sqrt{\\sum_{i=1}^{n} (x_i - \\overline{x})^2(y_i - \\overline{y})^2}}\n",
    "\\end{align}"
   ]
  },
  {
   "cell_type": "code",
   "execution_count": 11,
   "metadata": {},
   "outputs": [],
   "source": [
    "sample_list_1 = [1, 2, 3]\n",
    "sample_list_2 = [4, 5, 6]"
   ]
  },
  {
   "cell_type": "code",
   "execution_count": 12,
   "metadata": {},
   "outputs": [],
   "source": [
    "def find_corr_x_y(x, y):\n",
    "    n = len(x)\n",
    "    prod = []\n",
    "    for xi, yi in zip(x, y):\n",
    "        prod.append(xi * yi)\n",
    "    \n",
    "    sum_prod_x_y = sum(prod)\n",
    "    sum_x = sum(x)\n",
    "    sum_y = sum(y)\n",
    "    sum_x_squared = sum_x ** 2\n",
    "    sum_y_squared = sum_y ** 2\n",
    "    \n",
    "    x_square = []\n",
    "    for xi in x:\n",
    "        x_square.append(xi ** 2)\n",
    "        x_square_sum = sum(x_square)\n",
    "    \n",
    "    y_square = []\n",
    "    for yi in y:\n",
    "        y_square.append(yi ** 2)\n",
    "        y_square_sum = sum(y_square)\n",
    "        \n",
    "    numerator = n * sum_prod_x_y - sum_x * sum_y\n",
    "    denominator_term_1 = n * x_square_sum - sum_x_squared\n",
    "    denominator_term_2 = n * y_square_sum - sum_y_squared \n",
    "    denominator = (denominator_term_1 * denominator_term_2) ** 0.5\n",
    "    correlation = numerator / denominator\n",
    "    \n",
    "    return correlation\n"
   ]
  },
  {
   "cell_type": "code",
   "execution_count": 13,
   "metadata": {},
   "outputs": [
    {
     "data": {
      "text/plain": [
       "1.0"
      ]
     },
     "execution_count": 13,
     "metadata": {},
     "output_type": "execute_result"
    }
   ],
   "source": [
    "find_corr_x_y(sample_list_1, sample_list_2)"
   ]
  },
  {
   "cell_type": "markdown",
   "metadata": {},
   "source": [
    "The same code but with generators"
   ]
  },
  {
   "cell_type": "code",
   "execution_count": 14,
   "metadata": {},
   "outputs": [],
   "source": [
    "def corr_xy(x, y):\n",
    "    if len(x) != len(y):\n",
    "        print('Oops!')\n",
    "    else:\n",
    "        mean_x = sum(x) / len(x)\n",
    "        mean_y = sum(y) / len(y)\n",
    "        numerator = sum([(xi - mean_x) * (yi - mean_y) for xi, yi in zip(x,y)])\n",
    "        den_one = sum([(xi - mean_x) ** 2 for xi in x])\n",
    "        den_two = sum([(yi - mean_y) ** 2 for yi in y]) \n",
    "        return numerator / (den_one * den_two) ** 0.5"
   ]
  },
  {
   "cell_type": "markdown",
   "metadata": {},
   "source": [
    "Scatter Plots"
   ]
  },
  {
   "cell_type": "code",
   "execution_count": 15,
   "metadata": {},
   "outputs": [],
   "source": [
    "x = [1, 2, 3, 4]\n",
    "y = [2, 4, 6, 8]"
   ]
  },
  {
   "cell_type": "code",
   "execution_count": 16,
   "metadata": {},
   "outputs": [],
   "source": [
    "import matplotlib.pyplot as plt"
   ]
  },
  {
   "cell_type": "code",
   "execution_count": 17,
   "metadata": {},
   "outputs": [
    {
     "data": {
      "image/png": "[encoded data removed]",
      "text/plain": [
       "<Figure size 432x288 with 1 Axes>"
      ]
     },
     "metadata": {
      "needs_background": "light"
     },
     "output_type": "display_data"
    }
   ],
   "source": [
    "plt.scatter(x, y)\n",
    "plt.show()"
   ]
  }
 ],
 "metadata": {
  "kernelspec": {
   "display_name": "Python 3",
   "language": "python",
   "name": "python3"
  },
  "language_info": {
   "codemirror_mode": {
    "name": "ipython",
    "version": 3
   },
   "file_extension": ".py",
   "mimetype": "text/x-python",
   "name": "python",
   "nbconvert_exporter": "python",
   "pygments_lexer": "ipython3",
   "version": "3.6.7"
  }
 },
 "nbformat": 4,
 "nbformat_minor": 2
}
