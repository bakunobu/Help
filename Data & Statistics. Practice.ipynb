{
 "cells": [
  {
   "cell_type": "markdown",
   "metadata": {},
   "source": [
    "# Task 1. Better Correlation Coefficient-Finding Program"
   ]
  },
  {
   "cell_type": "code",
   "execution_count": 1,
   "metadata": {},
   "outputs": [],
   "source": [
    "sample_list_1 = [1, 2, 3]\n",
    "sample_list_2 = [4, 5, 6]"
   ]
  },
  {
   "cell_type": "code",
   "execution_count": 2,
   "metadata": {},
   "outputs": [],
   "source": [
    "def corr_xy(x, y):\n",
    "    if len(x) != len(y): # lists' length doesn't match\n",
    "        print('Oops!')\n",
    "    else:\n",
    "        mean_x = sum(x) / len(x)\n",
    "        mean_y = sum(y) / len(y)\n",
    "        numerator = sum([(xi - mean_x) * (yi - mean_y) for xi, yi in zip(x,y)])\n",
    "        den_one = sum([(xi - mean_x) ** 2 for xi in x])\n",
    "        den_two = sum([(yi - mean_y) ** 2 for yi in y]) \n",
    "        return numerator / (den_one * den_two) ** 0.5\n"
   ]
  },
  {
   "cell_type": "code",
   "execution_count": 3,
   "metadata": {},
   "outputs": [
    {
     "data": {
      "text/plain": [
       "1.0"
      ]
     },
     "execution_count": 3,
     "metadata": {},
     "output_type": "execute_result"
    }
   ],
   "source": [
    "corr_xy(sample_list_1, sample_list_2)"
   ]
  },
  {
   "cell_type": "markdown",
   "metadata": {},
   "source": [
    "# Task 2. Statistic Calculator"
   ]
  },
  {
   "cell_type": "code",
   "execution_count": 4,
   "metadata": {},
   "outputs": [],
   "source": [
    "def list_median(some_list):\n",
    "    \"\"\"returns median of the list\"\"\"\n",
    "    my_list = sorted(some_list) # не используйте .sort() или не включайте функцию в другие функции, работающие с этой же переменной\n",
    "    if len(my_list) % 2 == 0: # для случая с четным числом элементов\n",
    "        return (my_list[int(len(my_list) / 2 - 1)] + my_list[int(len(my_list) / 2)]) / 2\n",
    "    else:\n",
    "        return my_list[int(len(my_list) / 2)] # нечетный случай"
   ]
  },
  {
   "cell_type": "code",
   "execution_count": 5,
   "metadata": {},
   "outputs": [],
   "source": [
    "def list_mult_mode(my_list):\n",
    "    \"\"\"Returns all the modes (single if it's only one in a list)\"\"\"\n",
    "    from collections import Counter\n",
    "    com = Counter(my_list)\n",
    "    com_list = com.most_common()\n",
    "    return [x[0] for x in com_list if x[1] == com_list[0][1]]    "
   ]
  },
  {
   "cell_type": "code",
   "execution_count": 6,
   "metadata": {},
   "outputs": [
    {
     "name": "stdout",
     "output_type": "stream",
     "text": [
      "1 2\n"
     ]
    }
   ],
   "source": [
    "a = list_mult_mode([1, 1, 2, 2, 3])\n",
    "print(* a)"
   ]
  },
  {
   "cell_type": "code",
   "execution_count": 7,
   "metadata": {},
   "outputs": [],
   "source": [
    "def var_list(my_list):\n",
    "    \"\"\"Calculates variance\"\"\"\n",
    "    list_mean = sum(my_list) / len(my_list)\n",
    "    var_list = [(x - list_mean) ** 2 for x in my_list]\n",
    "    return sum(var_list) / len(var_list)  "
   ]
  },
  {
   "cell_type": "code",
   "execution_count": 8,
   "metadata": {},
   "outputs": [],
   "source": [
    "def open_file(file_name, mode):\n",
    "    \"\"\"Opens a file or closes the program\"\"\"\n",
    "    import sys\n",
    "    try:\n",
    "        the_file = open(file_name, mode, encoding='utf-8')\n",
    "    except IOError as e:\n",
    "        print('Can\\'t open the file', file_name, 'the program is closing now. \\n', e)\n",
    "        input('Print Enter to cancel')\n",
    "        sys.exit()\n",
    "    else:\n",
    "         return the_file "
   ]
  },
  {
   "cell_type": "code",
   "execution_count": 9,
   "metadata": {},
   "outputs": [],
   "source": [
    "def statistic_calc(my_list):\n",
    "    import math\n",
    "    mean  = sum(my_list) / len(my_list) #don't need a separate function\n",
    "    print('Mean: {0:.3f}'.format(mean))\n",
    "    median = list_median(my_list)\n",
    "    print('Median: {0:.3f}'.format(median))\n",
    "    modes = list_mult_mode(my_list) \n",
    "    print('Modes:', end=' ')\n",
    "    print(* modes) # if there more than one\n",
    "    variance = var_list(my_list)\n",
    "    print('Variance: {0:.3f}'.format(variance))\n",
    "    std_dev = math.sqrt(variance)\n",
    "    print('Standart deviation: {0:.3f}'.format(std_dev)) # that is sqrt of dispersion (=sqrt of Var(x, y))"
   ]
  },
  {
   "cell_type": "code",
   "execution_count": 10,
   "metadata": {},
   "outputs": [],
   "source": [
    "def main_stat_calc():\n",
    "    my_file_path = '/home/bakunobu/Desktop/num_list.txt'\n",
    "    my_file = open_file(my_file_path, 'r')\n",
    "    numbers = my_file.read().split(' ')\n",
    "    my_nums = [int(x) for x in numbers]\n",
    "    print('List:', end=' ')\n",
    "    print(* my_nums)\n",
    "    statistic_calc(my_nums)"
   ]
  },
  {
   "cell_type": "code",
   "execution_count": 11,
   "metadata": {},
   "outputs": [
    {
     "name": "stdout",
     "output_type": "stream",
     "text": [
      "List: 1 2 3 4 5 4 3 7 3 22 2 2 8 14 9 9 9 9 2 2 2 2 5 6 6\n",
      "Mean: 5.640\n",
      "Median: 4.000\n",
      "Modes: 2\n",
      "Variance: 21.270\n",
      "Standart deviation: 4.612\n"
     ]
    }
   ],
   "source": [
    "if __name__ == '__main__':\n",
    "    main_stat_calc()"
   ]
  },
  {
   "cell_type": "markdown",
   "metadata": {},
   "source": [
    "# Task 3. Data CSV Analysis (The US Population Data)"
   ]
  },
  {
   "cell_type": "code",
   "execution_count": 12,
   "metadata": {},
   "outputs": [],
   "source": [
    "def open_file_csv(file_name):\n",
    "    \"\"\"Opens a file or closes the program\"\"\"\n",
    "    import sys, csv\n",
    "    try:\n",
    "        the_file = open(file_name)\n",
    "        csv_data = csv.reader(the_file)\n",
    "        next(csv_data)\n",
    "        year = []\n",
    "        popul = []\n",
    "        for row in csv_data:\n",
    "            year.append(row[0])\n",
    "            popul.append(row[1])\n",
    "    except IOError as e:\n",
    "        print('Can\\'t open the file', file_name, 'the program is closing now. \\n', e)\n",
    "        input('Print Enter to cancel')\n",
    "        sys.exit()\n",
    "    else:\n",
    "        return year, popul\n",
    "    "
   ]
  },
  {
   "cell_type": "code",
   "execution_count": 13,
   "metadata": {},
   "outputs": [],
   "source": [
    "def data_prep(date, humans):\n",
    "    year = [int(x[-4:]) for x in date] # don't need day and month\n",
    "    year = year[1:] # shape length - we'll have -2 comparisons\n",
    "    year = year[:-1]\n",
    "    year = year[::-1] # first years first\n",
    "    population = []\n",
    "    for x in humans:\n",
    "        a = x.split(' ') # original format is *x.xx millions\n",
    "        population.append(float(a[0]) * 10 ** 6) # convert it into numbers\n",
    "    pop_dif = []\n",
    "    for i in range(1, len(population) - 1):\n",
    "        p = population[i - 1] - population[i]\n",
    "        pop_dif.append(p) # a list of year-to-year-comparisons\n",
    "    return year, pop_dif[::-1]#need a reversed list that matches with years\n",
    "    "
   ]
  },
  {
   "cell_type": "code",
   "execution_count": 14,
   "metadata": {},
   "outputs": [],
   "source": [
    "def show_plot(x, y, name_x, name_y, name_t):\n",
    "    \"\"\"creates a plot\"\"\"\n",
    "    import matplotlib.pyplot as plt\n",
    "    plt.plot(x, y)\n",
    "    plt.xlabel(name_x)\n",
    "    plt.ylabel(name_y)\n",
    "    plt.title(name_t)\n",
    "    plt.show()"
   ]
  },
  {
   "cell_type": "code",
   "execution_count": 15,
   "metadata": {},
   "outputs": [],
   "source": [
    "def main_pop_stat():\n",
    "    \"\"\"The main function that accepts a CSV file and do some conversions\"\"\"\n",
    "    my_file = '/home/bakunobu/Documents/us_census_1900_2018.csv'\n",
    "    date, humans = open_file_csv(my_file)\n",
    "    name_x = 'Years'\n",
    "    name_y = 'Population changes'\n",
    "    name_t = 'Dynamics of changes in the US Population \\n(1900-2018)'\n",
    "    year, pop_difs = data_prep(date, humans)\n",
    "    statistic_calc(pop_difs)\n",
    "    show_plot(year, pop_difs, name_x, name_y, name_t)\n",
    "    "
   ]
  },
  {
   "cell_type": "code",
   "execution_count": 16,
   "metadata": {},
   "outputs": [
    {
     "name": "stdout",
     "output_type": "stream",
     "text": [
      "Mean: 2131525.424\n",
      "Median: 2195000.000\n",
      "Modes: 1470000.0 2160000.0 2850000.0\n",
      "Variance: 498692588336.685\n",
      "Standart deviation: 706181.696\n"
     ]
    },
    {
     "data": {
      "image/png": "[encoded data removed]",
      "text/plain": [
       "<Figure size 432x288 with 1 Axes>"
      ]
     },
     "metadata": {
      "needs_background": "light"
     },
     "output_type": "display_data"
    }
   ],
   "source": [
    "%matplotlib inline\n",
    "if __name__ == '__main__':\n",
    "    main_pop_stat()"
   ]
  },
  {
   "cell_type": "markdown",
   "metadata": {},
   "source": [
    "# Task 4. Finding a Percentile"
   ]
  },
  {
   "cell_type": "markdown",
   "metadata": {},
   "source": [
    "\\begin{align}\n",
    "i = \\frac{np}{100}+0.5\n",
    "\\end{align}"
   ]
  },
  {
   "cell_type": "code",
   "execution_count": 17,
   "metadata": {},
   "outputs": [],
   "source": [
    "def find_percentile(my_list, p):\n",
    "    my_list.sort()\n",
    "    i = (len(my_list) * p) / 100 + 0.5\n",
    "    if i.is_integer():\n",
    "        return my_list[int(i-1)] # we need that -1 shift because the lists's items numeration starts with 0\n",
    "    else:\n",
    "        import math\n",
    "        k, f = math.floor(i), i - math.floor(i) #use build in function to get an integral part, int() seems to work the same way\n",
    "        return (1 - f) * my_list[k-1] + f * my_list[k] # same adjustment"
   ]
  },
  {
   "cell_type": "code",
   "execution_count": 18,
   "metadata": {},
   "outputs": [
    {
     "data": {
      "text/plain": [
       "3.5"
      ]
     },
     "execution_count": 18,
     "metadata": {},
     "output_type": "execute_result"
    }
   ],
   "source": [
    "digits = [5, 1, 9, 3, 14, 9, 7]\n",
    "find_percentile(digits, 25)"
   ]
  },
  {
   "cell_type": "markdown",
   "metadata": {},
   "source": [
    "# Task 5. Creating a Grouped Frequaency Table"
   ]
  },
  {
   "cell_type": "code",
   "execution_count": 19,
   "metadata": {},
   "outputs": [],
   "source": [
    "def create_classes(num_list, n):\n",
    "    from collections import Counter\n",
    "    import math\n",
    "    if n == 1:\n",
    "        print('Single group with {} elements'.format(len(num_list)))\n",
    "    width = (max(num_list) - min(num_list)) / n # idk why, it's from the task\n",
    "    com = Counter(num_list)\n",
    "    com_list = com.most_common()\n",
    "    com_list.sort()\n",
    "    groups = [[min(num_list) + i * width, 0] if i == 0 else [i * width, 0] for i in range(0, n)]\n",
    "    for item in com_list:\n",
    "        if item[0] < groups[0][0]:\n",
    "            groups[0][1] += item[1]\n",
    "        elif item[0] >= groups[-1][0]:\n",
    "            groups[-1][1] += item[1]\n",
    "        else:\n",
    "            i = math.floor(item[0] / width) #simple index finder\n",
    "            groups[i][1] += item[1]\n",
    "    if n > 1:        \n",
    "        print('Grade\\\\Frequency')\n",
    "    for i in range(len(groups)):\n",
    "        if n == 1:\n",
    "            pass\n",
    "        elif i == (len(groups) - 1):\n",
    "            print('{0}+\\t :\\t {1}'.format(groups[i][0], groups[i][1]))\n",
    "        else:\n",
    "            print('{0} - {1}:\\t {2}'.format(groups[i][0], groups[i + 1][0], groups[i][1]))\n",
    "    "
   ]
  },
  {
   "cell_type": "code",
   "execution_count": 20,
   "metadata": {},
   "outputs": [
    {
     "name": "stdout",
     "output_type": "stream",
     "text": [
      "Grade\\Frequency\n",
      "1.0 - 3.0:\t 3\n",
      "3.0 - 6.0:\t 3\n",
      "6.0+\t :\t 14\n"
     ]
    }
   ],
   "source": [
    "nums = [7, 8, 9, 2, 10, 9, 9, 9, 9, 4, 5, 6, 1, 5, 6, 7, 8, 6, 1, 10]\n",
    "create_classes(nums, 3)"
   ]
  },
  {
   "cell_type": "code",
   "execution_count": null,
   "metadata": {},
   "outputs": [],
   "source": []
  }
 ],
 "metadata": {
  "kernelspec": {
   "display_name": "Python 3",
   "language": "python",
   "name": "python3"
  },
  "language_info": {
   "codemirror_mode": {
    "name": "ipython",
    "version": 3
   },
   "file_extension": ".py",
   "mimetype": "text/x-python",
   "name": "python",
   "nbconvert_exporter": "python",
   "pygments_lexer": "ipython3",
   "version": "3.6.7"
  }
 },
 "nbformat": 4,
 "nbformat_minor": 2
}
