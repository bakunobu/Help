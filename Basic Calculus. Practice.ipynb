{
 "cells": [
  {
   "cell_type": "markdown",
   "metadata": {},
   "source": [
    "# Task 1. Verify the Continuity of a Function at a Point"
   ]
  },
  {
   "cell_type": "code",
   "execution_count": 3,
   "metadata": {},
   "outputs": [],
   "source": [
    "import sympy\n",
    "from sympy import Symbol, Limit, S, sympify\n",
    "from sympy.core.sympify import SympifyError"
   ]
  },
  {
   "cell_type": "code",
   "execution_count": 4,
   "metadata": {},
   "outputs": [],
   "source": [
    "def cont_verify(my_func, var, point):\n",
    "    \"\"\"accepts one variable function\"\"\"\n",
    "    left = Limit(my_func, var, point, dir='-').doit()\n",
    "    right = Limit(my_func, var, point, dir='+').doit()\n",
    "    return left == right"
   ]
  },
  {
   "cell_type": "code",
   "execution_count": 10,
   "metadata": {},
   "outputs": [
    {
     "name": "stdout",
     "output_type": "stream",
     "text": [
      "Enter a function in one variable: 1/x\n",
      "Enter the variable: x\n",
      "Enter the point to check the continuity at: 0\n",
      "1/x is not continuous at 0.0\n"
     ]
    }
   ],
   "source": [
    "if __name__ == '__main__':\n",
    "    \n",
    "    f = input('Enter a function in one variable: ')\n",
    "    var = input('Enter the variable: ')\n",
    "    point = float(input('Enter the point to check the continuity at: '))\n",
    "    try:\n",
    "        my_func = sympify(f)\n",
    "    except SympifyError:\n",
    "        print('Invalid Dunction Entered')\n",
    "    else:\n",
    "        var = Symbol(var)\n",
    "        res = cont_verify(my_func, var, point)\n",
    "        if res:\n",
    "            print('{} is  continuous at {}'.format(my_func, point))\n",
    "        else:\n",
    "            print('{} is not continuous at {}'.format(my_func, point))"
   ]
  },
  {
   "cell_type": "markdown",
   "metadata": {},
   "source": [
    "# Task 2. Implement the Gradient Descent"
   ]
  },
  {
   "cell_type": "code",
   "execution_count": 14,
   "metadata": {},
   "outputs": [],
   "source": [
    "import math\n",
    "from sympy import Derivative, Symbol, sin, solve\n",
    "from sympy import sympify, pprint\n",
    "from scipy import constants as const\n",
    "from sympy.core.sympify import SympifyError"
   ]
  },
  {
   "cell_type": "code",
   "execution_count": 17,
   "metadata": {},
   "outputs": [],
   "source": [
    "def grad_descent(x0, f1x, x):\n",
    "    if not solve(f1x):\n",
    "        print('Cannot continue, solution for {0} = 0 does not exist'.format(f1x))\n",
    "        return\n",
    "    epsilon = 10 ** - 6\n",
    "    step_size = 10 ** - 4\n",
    "    x_old = x0\n",
    "    x_new = x_old - step_size * f1x.subs({x:x_old}).evalf()\n",
    "    while abs(x_old - x_new) > epsilon:\n",
    "        x_old = x_new\n",
    "        x_new = x_old - step_size * f1x.subs({x:x_old}).evalf()\n",
    "    return x_new"
   ]
  },
  {
   "cell_type": "code",
   "execution_count": 18,
   "metadata": {},
   "outputs": [
    {
     "name": "stdout",
     "output_type": "stream",
     "text": [
      "Enter a function in one variable: 25*25*sin(2*theta)/9.8\n",
      "Enter the variable to differentiate with respect to: theta\n",
      "Enter the initial value of the variable: 0.001\n",
      "theta: -0.785360851298204\n",
      "Minimum value: -63.7755100265060\n"
     ]
    }
   ],
   "source": [
    "if __name__ == '__main__':\n",
    "    \n",
    "    f = input('Enter a function in one variable: ')\n",
    "    var = input('Enter the variable to differentiate with respect to: ')\n",
    "    var0 = float(input('Enter the initial value of the variable: '))\n",
    "    try:\n",
    "        f = sympify(f)\n",
    "    except SympifyError:\n",
    "        print('Invalid Dunction Entered')\n",
    "    else:\n",
    "        var = Symbol(var)\n",
    "        d = Derivative(f, var).doit()\n",
    "        var_min = grad_descent(var0, d, var)\n",
    "        if var_min:\n",
    "            print('{0}: {1}'.format(var.name, var_min))\n",
    "            print('Minimum value: {0}'.format(f.subs({var:var_min})))"
   ]
  },
  {
   "cell_type": "markdown",
   "metadata": {},
   "source": [
    "# Task 3. Area Between Two Curves"
   ]
  },
  {
   "cell_type": "code",
   "execution_count": 19,
   "metadata": {},
   "outputs": [],
   "source": [
    "from sympy import Integral"
   ]
  },
  {
   "cell_type": "code",
   "execution_count": 20,
   "metadata": {},
   "outputs": [],
   "source": [
    "def area_betw_curves(func_1, func_2, var, a=0, b=1):\n",
    "    area_f_1 = Integral(func_1, (var, a, b)).doit()\n",
    "    area_f_2 = Integral(func_2, (var, a, b)).doit()\n",
    "    return abs(area_f_1 - area_f_2)"
   ]
  },
  {
   "cell_type": "code",
   "execution_count": 23,
   "metadata": {},
   "outputs": [
    {
     "name": "stdout",
     "output_type": "stream",
     "text": [
      "Enter a function in one variable: x\n",
      "Enter a function in one variable: x**2\n",
      "Enter the variable to differentiate with respect to: x\n",
      "Area between x and x**2 in range 0 - 1 is 1/6\n"
     ]
    }
   ],
   "source": [
    "if __name__ == '__main__':\n",
    "    \n",
    "    f_1 = input('Enter a function in one variable: ')\n",
    "    f_2 = input('Enter a function in one variable: ')\n",
    "    var = input('Enter the variable to differentiate with respect to: ')\n",
    "    try:\n",
    "        f = sympify(f)\n",
    "    except SympifyError:\n",
    "        print('Invalid Function Entered')\n",
    "    else:\n",
    "        var = Symbol(var)\n",
    "        area = area_betw_curves(f_1, f_2, var, a=0, b=1)\n",
    "        print('Area between {} and {} in range {} - {} is {}'.format(f_1, f_2, 0, 1, area))\n",
    "        "
   ]
  },
  {
   "cell_type": "markdown",
   "metadata": {},
   "source": [
    "# Task 4. Finding the Length of a Curve"
   ]
  },
  {
   "cell_type": "code",
   "execution_count": 32,
   "metadata": {},
   "outputs": [],
   "source": [
    "from sympy import Derivative, Symbol, sin, solve, sqrt\n",
    "from sympy import sympify, pprint\n",
    "from scipy import constants as const\n",
    "from sympy.core.sympify import SympifyError"
   ]
  },
  {
   "cell_type": "code",
   "execution_count": 33,
   "metadata": {},
   "outputs": [],
   "source": [
    "def find_length(my_func, var, a, b):\n",
    "    d = Derivative(my_func, var).doit()\n",
    "    l = Integral(sqrt(1+d**2), (var, a, b)).doit().evalf()\n",
    "    return l"
   ]
  },
  {
   "cell_type": "code",
   "execution_count": 35,
   "metadata": {},
   "outputs": [
    {
     "name": "stdout",
     "output_type": "stream",
     "text": [
      "Enter a function in one variable: 2 * x ** 2 + 3 * x + 1\n",
      "Enter the variable to differentiate with respect to: x\n",
      "Enter the starting point: -5\n",
      "Enter the ending point: 10\n",
      "The length of the curve 2 * x ** 2 + 3 * x + 1 between 0 and 1 is 268.372650946022\n"
     ]
    }
   ],
   "source": [
    "if __name__ == '__main__':\n",
    "    \n",
    "    f_1 = input('Enter a function in one variable: ')\n",
    "    var = input('Enter the variable to differentiate with respect to: ')\n",
    "    a = float(input('Enter the starting point: '))\n",
    "    b = float(input('Enter the ending point: '))\n",
    "    try:\n",
    "        f = sympify(f_1)\n",
    "    except SympifyError:\n",
    "        print('Invalid Function Entered')\n",
    "    else:\n",
    "        var = Symbol(var)\n",
    "        length = find_length(f, var, a, b)\n",
    "        print('The length of the curve {} between {} and {} is {}'.format(f_1, 0, 1, length))"
   ]
  },
  {
   "cell_type": "code",
   "execution_count": null,
   "metadata": {},
   "outputs": [],
   "source": []
  }
 ],
 "metadata": {
  "kernelspec": {
   "display_name": "Python 3",
   "language": "python",
   "name": "python3"
  },
  "language_info": {
   "codemirror_mode": {
    "name": "ipython",
    "version": 3
   },
   "file_extension": ".py",
   "mimetype": "text/x-python",
   "name": "python",
   "nbconvert_exporter": "python",
   "pygments_lexer": "ipython3",
   "version": "3.6.7"
  }
 },
 "nbformat": 4,
 "nbformat_minor": 2
}
