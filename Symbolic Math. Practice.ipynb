{
 "cells": [
  {
   "cell_type": "markdown",
   "metadata": {},
   "source": [
    "# Task 1. Factor Finder"
   ]
  },
  {
   "cell_type": "code",
   "execution_count": 1,
   "metadata": {},
   "outputs": [],
   "source": [
    "def factor(expr):\n",
    "    from sympy import Symbol, factor\n",
    "    return factor(expr)\n",
    "    "
   ]
  },
  {
   "cell_type": "code",
   "execution_count": 2,
   "metadata": {},
   "outputs": [],
   "source": [
    "def expr_input():\n",
    "    from sympy import sympify\n",
    "    from sympy.core.sympify import SympifyError\n",
    "    expr = input('Enter a mathematical expression: ')\n",
    "    try:\n",
    "        expr = sympify(expr)\n",
    "    except SympifyError:\n",
    "        print('Invalid Input')\n",
    "    else:\n",
    "        return expr"
   ]
  },
  {
   "cell_type": "code",
   "execution_count": 4,
   "metadata": {},
   "outputs": [
    {
     "name": "stdout",
     "output_type": "stream",
     "text": [
      "Enter a mathematical expression: x ** 2 - y ** 2\n",
      "(x - y)*(x + y)\n"
     ]
    }
   ],
   "source": [
    "if __name__ == '__main__':\n",
    "    expr = expr_input()\n",
    "    print(factor(expr))"
   ]
  },
  {
   "cell_type": "markdown",
   "metadata": {},
   "source": [
    "# Task 2. Graphical Equation Solver"
   ]
  },
  {
   "cell_type": "code",
   "execution_count": 8,
   "metadata": {},
   "outputs": [],
   "source": [
    "def multi_expr_input():\n",
    "    from sympy import sympify\n",
    "    \n",
    "    expr1 = input(\"Enter the first expression in terms of x and y: \")\n",
    "    expr2 = input('Enter the second expression in terms of x and y: ')\n",
    "    \n",
    "    try:\n",
    "        expr1 = sympify(expr1)\n",
    "        expr2 = sympify(expr2)\n",
    "    except SympifyError:\n",
    "        print('Invalid input')\n",
    "    else:\n",
    "        return expr1, expr2"
   ]
  },
  {
   "cell_type": "code",
   "execution_count": 15,
   "metadata": {},
   "outputs": [],
   "source": [
    "def show_plots(expr1, expr2):\n",
    "    from sympy.plotting import plot\n",
    "    from sympy import Symbol, sympify, solve\n",
    "    x = Symbol('x')\n",
    "    y = Symbol('y')\n",
    "    solution_1 = solve(expr1, y)\n",
    "    expr_1y = solution_1[0]\n",
    "    solution_2 = solve(expr2, y)\n",
    "    expr_2y = solution_2[0]\n",
    "    plot(expr_1y, expr_2y)\n",
    "    "
   ]
  },
  {
   "cell_type": "code",
   "execution_count": 16,
   "metadata": {},
   "outputs": [
    {
     "name": "stdout",
     "output_type": "stream",
     "text": [
      "Enter the first expression in terms of x and y: x ** 2 - 2 *y\n",
      "Enter the second expression in terms of x and y: x - y\n"
     ]
    },
    {
     "data": {
      "image/png": "[encoded data removed]",
      "text/plain": [
       "<Figure size 432x288 with 1 Axes>"
      ]
     },
     "metadata": {
      "needs_background": "light"
     },
     "output_type": "display_data"
    }
   ],
   "source": [
    "%matplotlib inline\n",
    "if __name__ == '__main__':\n",
    "    expr1, expr2 = multi_expr_input()\n",
    "    show_plots(expr1, expr2)"
   ]
  },
  {
   "cell_type": "markdown",
   "metadata": {},
   "source": [
    "# Task 3. Summing a Series"
   ]
  },
  {
   "cell_type": "code",
   "execution_count": 21,
   "metadata": {},
   "outputs": [],
   "source": [
    "def ser_summation(expr, n):\n",
    "    from sympy import Symbol, summation, pprint, simplify\n",
    "    x = Symbol('x')\n",
    "    n = Symbol('n')\n",
    "    s = summation(expr, (n, 1, n))\n",
    "    s = simplify(s)\n",
    "    pprint(s)"
   ]
  },
  {
   "cell_type": "code",
   "execution_count": 22,
   "metadata": {},
   "outputs": [
    {
     "name": "stdout",
     "output_type": "stream",
     "text": [
      "Enter the number of terms you want in the series: 3\n",
      "Enter a mathematical expression: a+(n-1) * d\n",
      "n⋅(2⋅a + d⋅n - d)\n",
      "─────────────────\n",
      "        2        \n"
     ]
    }
   ],
   "source": [
    "if __name__ == '__main__':\n",
    "    n = input('Enter the number of terms you want in the series: ')\n",
    "    expr = expr_input()\n",
    "    ser_summation(expr, n)"
   ]
  },
  {
   "cell_type": "code",
   "execution_count": null,
   "metadata": {},
   "outputs": [],
   "source": []
  }
 ],
 "metadata": {
  "kernelspec": {
   "display_name": "Python 3",
   "language": "python",
   "name": "python3"
  },
  "language_info": {
   "codemirror_mode": {
    "name": "ipython",
    "version": 3
   },
   "file_extension": ".py",
   "mimetype": "text/x-python",
   "name": "python",
   "nbconvert_exporter": "python",
   "pygments_lexer": "ipython3",
   "version": "3.6.7"
  }
 },
 "nbformat": 4,
 "nbformat_minor": 2
}
