{
 "cells": [
  {
   "cell_type": "markdown",
   "metadata": {},
   "source": [
    "Обыкновенные дроби\n",
    "Используем модуль fractions\n",
    "дробь задается функцией Fraction(числитель, знаменатель) или Fraction(числитель/знаменатель)"
   ]
  },
  {
   "cell_type": "code",
   "execution_count": null,
   "metadata": {},
   "outputs": [],
   "source": [
    "from fractions import Fraction"
   ]
  },
  {
   "cell_type": "code",
   "execution_count": null,
   "metadata": {},
   "outputs": [],
   "source": [
    "f = Fraction(3, 4)\n",
    "4 * f"
   ]
  },
  {
   "cell_type": "code",
   "execution_count": null,
   "metadata": {
    "scrolled": true
   },
   "outputs": [],
   "source": [
    "Fraction(1/4)"
   ]
  },
  {
   "cell_type": "markdown",
   "metadata": {},
   "source": [
    "При сложении с другими целыми их тип не меняется"
   ]
  },
  {
   "cell_type": "code",
   "execution_count": null,
   "metadata": {},
   "outputs": [],
   "source": [
    "Fraction(1/4) + 1"
   ]
  },
  {
   "cell_type": "markdown",
   "metadata": {},
   "source": [
    "При сложении с чистами с плавающей точкой тип меняется на float"
   ]
  },
  {
   "cell_type": "code",
   "execution_count": null,
   "metadata": {},
   "outputs": [],
   "source": [
    "Fraction(1/4) + 1.0"
   ]
  },
  {
   "cell_type": "markdown",
   "metadata": {},
   "source": [
    "Комплексные числа\n",
    "вместо i используем j 2+3i=>2+3j"
   ]
  },
  {
   "cell_type": "code",
   "execution_count": null,
   "metadata": {
    "scrolled": true
   },
   "outputs": [],
   "source": [
    "a = 2 + 3j\n",
    "type(a)"
   ]
  },
  {
   "cell_type": "markdown",
   "metadata": {},
   "source": [
    "Другой способ - complex(real, imag)"
   ]
  },
  {
   "cell_type": "code",
   "execution_count": null,
   "metadata": {},
   "outputs": [],
   "source": [
    "b = complex(3, 3)\n",
    "print(b)"
   ]
  },
  {
   "cell_type": "code",
   "execution_count": null,
   "metadata": {},
   "outputs": [],
   "source": [
    "print(a+b)\n",
    "print(a-b)\n",
    "print(a*b)\n",
    "print(a/b)"
   ]
  },
  {
   "cell_type": "markdown",
   "metadata": {},
   "source": [
    "**С комплексными числами не работает целочисленное деление (//) и вычисление остатка от деления (%)!**"
   ]
  },
  {
   "cell_type": "markdown",
   "metadata": {},
   "source": [
    "мнимая и действительная часть комплексного числа: complex.real, complex.imag"
   ]
  },
  {
   "cell_type": "code",
   "execution_count": null,
   "metadata": {},
   "outputs": [],
   "source": [
    "a.real"
   ]
  },
  {
   "cell_type": "code",
   "execution_count": null,
   "metadata": {},
   "outputs": [],
   "source": [
    "a.imag"
   ]
  },
  {
   "cell_type": "markdown",
   "metadata": {},
   "source": [
    "сопряженное число complex.conjugate()"
   ]
  },
  {
   "cell_type": "code",
   "execution_count": null,
   "metadata": {},
   "outputs": [],
   "source": [
    "a.conjugate()"
   ]
  },
  {
   "cell_type": "markdown",
   "metadata": {},
   "source": [
    "Магнитуда комплексного числа - abs(complex)"
   ]
  },
  {
   "cell_type": "code",
   "execution_count": null,
   "metadata": {},
   "outputs": [],
   "source": [
    "abs(a)"
   ]
  },
  {
   "cell_type": "markdown",
   "metadata": {},
   "source": [
    "**Фишка - с помощью int() нельзя конвертировать строки, содержащие числа с плавающей точкой - int('2.5') выдаст ошибку!!!**"
   ]
  },
  {
   "cell_type": "markdown",
   "metadata": {},
   "source": [
    "Хорошая идея использования форматирования строк"
   ]
  },
  {
   "cell_type": "code",
   "execution_count": null,
   "metadata": {},
   "outputs": [],
   "source": [
    "def multi_table(a):\n",
    "    for i in range(1, 11):\n",
    "        print('{0} x {1} = {2:.2f}'.format(a, i, a*i))\n",
    "multi_table(6)"
   ]
  },
  {
   "cell_type": "markdown",
   "metadata": {},
   "source": [
    "Немного практики - программы по конвертированию величин"
   ]
  },
  {
   "cell_type": "markdown",
   "metadata": {},
   "source": [
    "Расстояние - дюймы в метры"
   ]
  },
  {
   "cell_type": "code",
   "execution_count": null,
   "metadata": {},
   "outputs": [],
   "source": [
    "def inch_to_meter(inch):\n",
    "    return(inch * 2.54 ) * 0.01\n",
    "print(inch_to_meter(20))"
   ]
  },
  {
   "cell_type": "markdown",
   "metadata": {},
   "source": [
    "Мили в километры"
   ]
  },
  {
   "cell_type": "code",
   "execution_count": null,
   "metadata": {},
   "outputs": [],
   "source": [
    "def miles_to_km(mile):\n",
    "    return mile * 1.609\n",
    "print(miles_to_km(100))"
   ]
  },
  {
   "cell_type": "markdown",
   "metadata": {},
   "source": [
    "Фарингейт в цельсий"
   ]
  },
  {
   "cell_type": "code",
   "execution_count": null,
   "metadata": {},
   "outputs": [],
   "source": [
    "def far_to_cel(far=451):\n",
    "    from fractions import Fraction\n",
    "    return (far - 32) * Fraction(5, 9) * 1.0 #чтобы при выводе получить десятичную дробь вместо обыкновенной\n",
    "print('{0:.{1}f}'.format(far_to_cel(), 2)) # форматирование до двух знаков после запятой"
   ]
  },
  {
   "cell_type": "markdown",
   "metadata": {},
   "source": [
    "Цельсий в фарингейт"
   ]
  },
  {
   "cell_type": "code",
   "execution_count": null,
   "metadata": {},
   "outputs": [],
   "source": [
    "def cel_to_far(cel=102):\n",
    "    from fractions import Fraction\n",
    "    return (cel * Fraction(9, 5) * 1.0) + 32 #чтобы при выводе получить десятичную дробь вместо обыкновенной\n",
    "print('{0:.{1}f}'.format(far_to_cel(), 2)) # форматирование до двух знаков после запятой"
   ]
  },
  {
   "cell_type": "markdown",
   "metadata": {},
   "source": [
    "Решение простого квадратного уравнения"
   ]
  },
  {
   "cell_type": "code",
   "execution_count": null,
   "metadata": {},
   "outputs": [],
   "source": [
    "def simple_sq_eq(a=1, b=2, c=1):\n",
    "    from math import sqrt, pow\n",
    "    d = sqrt(pow(b, 2) - 4 * a * c)\n",
    "    x_1 = (-b + d) / (2 * a)\n",
    "    x_2 = (-b - d) / (2 * a)\n",
    "    if x_1 == x_2:\n",
    "        return x_1\n",
    "    else:\n",
    "        return (x_1, x_2)\n",
    "print(simple_sq_eq())"
   ]
  },
  {
   "cell_type": "code",
   "execution_count": null,
   "metadata": {},
   "outputs": [],
   "source": [
    "simple_sq_eq(1, -2, -3)"
   ]
  },
  {
   "cell_type": "markdown",
   "metadata": {},
   "source": [
    "# Practice"
   ]
  },
  {
   "cell_type": "markdown",
   "metadata": {},
   "source": [
    "## Task 1. Even-Odd Vending Machine"
   ]
  },
  {
   "cell_type": "code",
   "execution_count": null,
   "metadata": {},
   "outputs": [],
   "source": [
    "def even_odd_v_m(num):\n",
    "    \"\"\"An 'Even-Odd Vending Machine' that takes an integer number as an input and prints whether the number is even\n",
    "    or odd and displays the number followed by the next 9 even or odd numbers\"\"\"\n",
    "    if num % 2 == 0:\n",
    "        print('Even')\n",
    "    else:\n",
    "        print('Odd')\n",
    "    val_list = list(x for x in range(num, num+19, 2))\n",
    "    print(* val_list)\n",
    "\n",
    "\n",
    "def choice():\n",
    "    \"\"\"An user's input form. Accepts integers and returns an integer as well\"\"\"\n",
    "    try:\n",
    "        num = int(input('Enter an integer:')) #can be rewritten using .is_integer() method, but could be longer.\n",
    "        return num\n",
    "    except ValueError: #when an input isn't an integer. Otherwise the program is corrupted by an error\n",
    "        print('It\\'s not an integer!')\n",
    "\n",
    "\n",
    "def main():\n",
    "    num = None\n",
    "    while not num:\n",
    "        num = choice()        \n",
    "    even_odd_v_m(num)\n",
    "\n",
    "\n",
    "main()"
   ]
  },
  {
   "cell_type": "markdown",
   "metadata": {},
   "source": [
    "## Task 2. Multiplication Table Generator"
   ]
  },
  {
   "cell_type": "code",
   "execution_count": 8,
   "metadata": {},
   "outputs": [
    {
     "name": "stdout",
     "output_type": "stream",
     "text": [
      "Please type the number and the multiplicator: 2 2\n",
      "2 x 1 = 2.00\n",
      "2 x 2 = 4.00\n"
     ]
    }
   ],
   "source": [
    "def multi_table(a, b):\n",
    "    \"\"\"Generates an a*b multiplication table and prints it.\n",
    "    Accepts two integers saperated by a space\"\"\"\n",
    "    for i in range(1, b + 1):\n",
    "        print('{0} x {1} = {2:.2f}'.format(a, i, a*i))\n",
    "\n",
    "        \n",
    "def input_ints():\n",
    "    \"\"\"An user input form. Accepts and returns two integers.\n",
    "    built in try-except module\"\"\"\n",
    "    a, b = None, None\n",
    "    while not a and not b:\n",
    "        try:\n",
    "            int_list = list(map(int, input('Please type the number and the multiplicator: ').split()))\n",
    "            if len(int_list) == 2:\n",
    "                a, b = int_list[0], int_list[1]\n",
    "            else:\n",
    "                print('We need two integer numbers')\n",
    "        except ValueError: #when an input isn't an integer. Otherwise the program is corrupted by an error\n",
    "            print('Integers only!')\n",
    "    return a, b\n",
    "\n",
    "\n",
    "def run_multi_table():\n",
    "    a, b = input_ints()\n",
    "    multi_table(a, b)\n",
    "\n",
    "    \n",
    "run_multi_table()"
   ]
  },
  {
   "cell_type": "markdown",
   "metadata": {},
   "source": [
    "## Task 3. Basic converter"
   ]
  },
  {
   "cell_type": "code",
   "execution_count": null,
   "metadata": {},
   "outputs": [],
   "source": [
    "def main_menu():\n",
    "    \"\"\"a menu to choose from main convertion functions\"\"\"\n",
    "    print(\"\"\"\\tWelcome to the unversal converter!\n",
    "            Please choose an operation:\n",
    "            1) Far-Cel convertion;\n",
    "            2) Cel-Far convertion;\n",
    "            3) Miles-km convertion;\n",
    "            4) Km-miles convertion;\n",
    "            5) Inch-meter convertion;\n",
    "            6) Meter-inch convertion;\n",
    "            7) Repeat menu;\n",
    "            0) Exit.\"\"\")\n",
    "\n",
    "    \n",
    "def user_input():\n",
    "    choise = 'Ni!'\n",
    "    while choise == 'Ni!':\n",
    "        try:\n",
    "            answer = int(input('Choose an option 1-6. 0 for exit: '))\n",
    "            if answer in (0, 1, 2, 3, 4, 5, 6, 7):\n",
    "                choise = answer\n",
    "            else:\n",
    "                print('No such an option. Try again (0 for exit): ')\n",
    "        except ValueError: #when an input isn't an integer. Otherwise the program is corrupted by an error\n",
    "            print('Integers only!')\n",
    "    return choise\n",
    "\n",
    "def float_input():\n",
    "    try:\n",
    "        value = float(input('Type a float in: '))\n",
    "        return value\n",
    "    except ValueError: #when an input isn't an integer. Otherwise the program is corrupted by an error\n",
    "        print('Numbers only!')\n",
    "\n",
    "\n",
    "def inch_to_meter(inch=9):\n",
    "    return (inch * 2.54 ) * 0.01\n",
    "\n",
    "\n",
    "def meter_to_inch(meter=1.82):\n",
    "    return (meter / 2.54) * 100\n",
    "\n",
    "\n",
    "def miles_to_km(mile=8):\n",
    "    return mile * 1.609\n",
    "\n",
    "\n",
    "def km_to_miles(km=19):\n",
    "    return km / 1.609\n",
    "\n",
    "\n",
    "def far_to_cel(far=451):\n",
    "    from fractions import Fraction\n",
    "    return (far - 32) * Fraction(5, 9) * 1.0 #чтобы при выводе получить десятичную дробь вместо обыкновенной\n",
    "#print('{0:.{1}f}'.format(far_to_cel(), 2)) # форматирование до двух знаков после запятой\n",
    "\n",
    "\n",
    "def cel_to_far(cel=102):\n",
    "    from fractions import Fraction\n",
    "    return (cel * Fraction(9, 5) * 1.0) + 32 #чтобы при выводе получить десятичную дробь вместо обыкновенной\n",
    "#print('{0:.{1}f}'.format(far_to_cel(), 2)) # форматирование до двух знаков после запятой\n",
    "\n",
    "\n",
    "def main():\n",
    "    main_menu()\n",
    "    pick = 'Ni!'\n",
    "    while pick != 0:\n",
    "        pick = user_input()\n",
    "        if pick == 1:\n",
    "            data = float(input('Enter F degrees: '))\n",
    "            print('{0:.{1}f}'.format(far_to_cel(data), 2))\n",
    "        elif pick == 2:\n",
    "            data = float(input('Enter C degrees: '))\n",
    "            print('{0:.{1}f}'.format(cel_to_far(data), 2))\n",
    "        elif pick == 3:\n",
    "            data = float(input('Enter miles\\' amt: '))\n",
    "            print('{0:.{1}f}'.format(miles_to_km(data), 2))\n",
    "        elif pick == 4:\n",
    "            data = float(input('Enter kms\\' amt: '))\n",
    "            print('{0:.{1}f}'.format(km_to_miles(data), 2))\n",
    "        elif pick == 5:\n",
    "            data = float(input('Enter inches\\' amt: '))\n",
    "            print('{0:.{1}f}'.format(inch_to_meter(data), 2))\n",
    "        elif pick == 6:\n",
    "            data = float(input('Enter meters\\' amt: '))\n",
    "            print('{0:.{1}f}'.format(meter_to_inch(data), 2))\n",
    "        elif pick == 7:\n",
    "            main_menu()\n",
    "    print('Bye!')\n",
    "\n",
    "\n",
    "main()\n"
   ]
  },
  {
   "cell_type": "markdown",
   "metadata": {},
   "source": [
    "## Task 4. Fraction operation"
   ]
  },
  {
   "cell_type": "code",
   "execution_count": 6,
   "metadata": {},
   "outputs": [
    {
     "name": "stdout",
     "output_type": "stream",
     "text": [
      "Enter the first fraction.\n",
      "Please type an numerator and a divisor (\",\" as a separator): 1,2\n",
      "Enter the second fraction.\n",
      "Please type an numerator and a divisor (\",\" as a separator): 2,1\n",
      "Choose an operation to perform:\n",
      "    1) Add\n",
      "    2) Substract\n",
      "    3) Divide\n",
      "    4) Multiply\n",
      "Choose an option 1-6. 0 for exit: 4\n",
      "first_fraction: 1/2\n",
      "second_fraction: 2\n",
      "Operation ' Multiply '\n",
      "Result: 1\n"
     ]
    }
   ],
   "source": [
    "def main_menu():\n",
    "    \"\"\"The menu printer\"\"\"\n",
    "    print(\n",
    "    '''Choose an operation to perform:\n",
    "    1) Add\n",
    "    2) Substract\n",
    "    3) Divide\n",
    "    4) Multiply''')\n",
    "\n",
    "\n",
    "def enter_fraction(my_text):\n",
    "    \"\"\"returns a numerator and a divisor\"\"\"\n",
    "    num, div = None, None\n",
    "    while not num and not div:\n",
    "        try:\n",
    "            print(my_text)\n",
    "            fract_list = list(map(int, input('Please type an numerator and a divisor (\",\" as a separator): ').split(',')))\n",
    "            if len(fract_list) == 2:\n",
    "                num, div = fract_list[0], fract_list[1]\n",
    "            else:\n",
    "                print('We need two integer numbers')\n",
    "        except ValueError: #when an input isn't an integer. Otherwise the program is corrupted by an error\n",
    "            print('Integers only!')\n",
    "    return num, div\n",
    "\n",
    "\n",
    "def user_input():\n",
    "    choise = 'Ni!'\n",
    "    while choise == 'Ni!':\n",
    "        try:\n",
    "            answer = int(input('Choose an option 1-6. 0 for exit: '))\n",
    "            if answer in (1, 2, 3, 4):\n",
    "                choise = answer\n",
    "            else:\n",
    "                print('No such an option. Try again: ')\n",
    "        except ValueError: #when an input isn't an integer. Otherwise the program is corrupted by an error\n",
    "            print('Integers only!')\n",
    "    return choise\n",
    "\n",
    "\n",
    "def fraction_creator(num, div):\n",
    "    from fractions import Fraction\n",
    "    return Fraction(num, div)\n",
    "\n",
    "\n",
    "def fr_add(a, b):\n",
    "    return a + b\n",
    "\n",
    "\n",
    "def fr_sub(a, b):\n",
    "    return a - b\n",
    "\n",
    "\n",
    "def fr_div(a, b):\n",
    "    return a / b\n",
    "\n",
    "\n",
    "def fr_mult(a, b):\n",
    "    return a * b\n",
    "\n",
    "\n",
    "def main(my_dict):\n",
    "    \"\"\"accepts a dict of options to print\"\"\"\n",
    "    a, b = enter_fraction('Enter the first fraction.')\n",
    "    fr_one = fraction_creator(a, b)\n",
    "    c, d = enter_fraction('Enter the second fraction.')\n",
    "    fr_two = fraction_creator(c, d)\n",
    "    main_menu()\n",
    "    pick = user_input()\n",
    "    print(f'First_fraction: {fr_one}')\n",
    "    print(f'Second_fraction: {fr_two}')\n",
    "    print('Operation \\'', options[pick], '\\'\\nResult: ', end='')\n",
    "    if pick == 1:\n",
    "        print(fr_add(fr_one, fr_two))\n",
    "    elif pick == 2:\n",
    "        print(fr_sub(fr_one, fr_two))\n",
    "    elif pick == 3:\n",
    "        print(fr_div(fr_one, fr_two))\n",
    "    else:\n",
    "        print(fr_mult(fr_one, fr_two))\n",
    "\n",
    "options = {1: 'Add', 2: 'Substract', 3:'Divide', 4: 'Multiply'}\n",
    "\n",
    "main(options)\n"
   ]
  },
  {
   "cell_type": "markdown",
   "metadata": {},
   "source": [
    "## Task 5. Exit Power"
   ]
  },
  {
   "cell_type": "code",
   "execution_count": 10,
   "metadata": {},
   "outputs": [
    {
     "name": "stdout",
     "output_type": "stream",
     "text": [
      "Please type the number and the multiplicator: 3 3\n",
      "3 x 1 = 3.00\n",
      "3 x 2 = 6.00\n",
      "3 x 3 = 9.00\n",
      "Do you want to exit? Type 'y' to quitn\n",
      "Please type the number and the multiplicator: 4 5\n",
      "4 x 1 = 4.00\n",
      "4 x 2 = 8.00\n",
      "4 x 3 = 12.00\n",
      "4 x 4 = 16.00\n",
      "4 x 5 = 20.00\n",
      "Do you want to exit? Type 'y' to quity\n"
     ]
    }
   ],
   "source": [
    "def main():\n",
    "    \"\"\"The same function as the multipy table, but with the exit option\"\"\"\n",
    "    end_loop = 'Ni'\n",
    "    while end_loop != 'y':\n",
    "        run_multi_table()\n",
    "        end_loop = input('Do you want to exit? Type \\'y\\' to quit').lower()\n",
    "\n",
    "\n",
    "main()    "
   ]
  },
  {
   "cell_type": "code",
   "execution_count": null,
   "metadata": {},
   "outputs": [],
   "source": []
  }
 ],
 "metadata": {
  "kernelspec": {
   "display_name": "Python 3",
   "language": "python",
   "name": "python3"
  },
  "language_info": {
   "codemirror_mode": {
    "name": "ipython",
    "version": 3
   },
   "file_extension": ".py",
   "mimetype": "text/x-python",
   "name": "python",
   "nbconvert_exporter": "python",
   "pygments_lexer": "ipython3",
   "version": "3.6.7"
  }
 },
 "nbformat": 4,
 "nbformat_minor": 2
}
