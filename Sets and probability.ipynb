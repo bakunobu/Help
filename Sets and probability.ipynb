{
 "cells": [
  {
   "cell_type": "markdown",
   "metadata": {},
   "source": [
    "# Sets and probability"
   ]
  },
  {
   "cell_type": "code",
   "execution_count": 2,
   "metadata": {},
   "outputs": [],
   "source": [
    "from sympy import FiniteSet # пока непонятно, зачем"
   ]
  },
  {
   "cell_type": "code",
   "execution_count": 3,
   "metadata": {},
   "outputs": [],
   "source": [
    "nums = [1, 2, 3, 4]\n",
    "my_set = FiniteSet(* nums) # передаем как неопределенное число аргументов, иначе выдаст TypeError"
   ]
  },
  {
   "cell_type": "markdown",
   "metadata": {},
   "source": [
    "функция is_subset() - проверяет, является ли множество подмножеством другого"
   ]
  },
  {
   "cell_type": "code",
   "execution_count": 5,
   "metadata": {},
   "outputs": [
    {
     "data": {
      "text/plain": [
       "True"
      ]
     },
     "execution_count": 5,
     "metadata": {},
     "output_type": "execute_result"
    }
   ],
   "source": [
    "my_set = FiniteSet(1, 2, 3)\n",
    "my_subset = FiniteSet(1, 2)\n",
    "my_subset.is_subset(my_set)"
   ]
  },
  {
   "cell_type": "code",
   "execution_count": 6,
   "metadata": {},
   "outputs": [
    {
     "data": {
      "text/plain": [
       "True"
      ]
     },
     "execution_count": 6,
     "metadata": {},
     "output_type": "execute_result"
    }
   ],
   "source": [
    "empty_set = FiniteSet() # создаем пустое множество\n",
    "empty_set.is_subset(my_set) #пустое множество является подмножеством любого множества"
   ]
  },
  {
   "cell_type": "markdown",
   "metadata": {},
   "source": [
    "функция is_superset() - проверяет, является ли множество надмножеством другого множества"
   ]
  },
  {
   "cell_type": "code",
   "execution_count": 7,
   "metadata": {},
   "outputs": [
    {
     "data": {
      "text/plain": [
       "True"
      ]
     },
     "execution_count": 7,
     "metadata": {},
     "output_type": "execute_result"
    }
   ],
   "source": [
    "my_set.is_superset(my_subset)"
   ]
  },
  {
   "cell_type": "markdown",
   "metadata": {},
   "source": [
    "powerset() - все подмножества множества, всего их получается 2 ** n, где n - количество элементов множества"
   ]
  },
  {
   "cell_type": "code",
   "execution_count": 5,
   "metadata": {},
   "outputs": [
    {
     "name": "stdout",
     "output_type": "stream",
     "text": [
      "16\n"
     ]
    },
    {
     "data": {
      "text/plain": [
       "{EmptySet(), {1}, {2}, ..., {1, 3, 4}, {2, 3, 4}, {1, 2, 3, 4}}"
      ]
     },
     "execution_count": 5,
     "metadata": {},
     "output_type": "execute_result"
    }
   ],
   "source": [
    "s = FiniteSet(1, 2, 3, 4)\n",
    "ps = s.powerset()\n",
    "print(len(ps))\n",
    "ps"
   ]
  },
  {
   "cell_type": "markdown",
   "metadata": {},
   "source": [
    "более правильная проверка на подмножество - is_proper_subset()/is_proper_superset(), так как различает одинаковые множества"
   ]
  },
  {
   "cell_type": "code",
   "execution_count": 6,
   "metadata": {},
   "outputs": [],
   "source": [
    "a = FiniteSet(1, 2, 3)\n",
    "b = FiniteSet(1, 2, 3)\n",
    "c = FiniteSet(1, 2, 3, 4)"
   ]
  },
  {
   "cell_type": "code",
   "execution_count": 8,
   "metadata": {},
   "outputs": [
    {
     "data": {
      "text/plain": [
       "False"
      ]
     },
     "execution_count": 8,
     "metadata": {},
     "output_type": "execute_result"
    }
   ],
   "source": [
    "a.is_proper_subset(b)"
   ]
  },
  {
   "cell_type": "code",
   "execution_count": 9,
   "metadata": {},
   "outputs": [
    {
     "data": {
      "text/plain": [
       "True"
      ]
     },
     "execution_count": 9,
     "metadata": {},
     "output_type": "execute_result"
    }
   ],
   "source": [
    "a.is_proper_subset(c)"
   ]
  },
  {
   "cell_type": "code",
   "execution_count": 10,
   "metadata": {},
   "outputs": [
    {
     "data": {
      "text/plain": [
       "False"
      ]
     },
     "execution_count": 10,
     "metadata": {},
     "output_type": "execute_result"
    }
   ],
   "source": [
    "b.is_proper_superset(a)"
   ]
  },
  {
   "cell_type": "code",
   "execution_count": 11,
   "metadata": {},
   "outputs": [
    {
     "data": {
      "text/plain": [
       "True"
      ]
     },
     "execution_count": 11,
     "metadata": {},
     "output_type": "execute_result"
    }
   ],
   "source": [
    "c.is_proper_superset(a)"
   ]
  },
  {
   "cell_type": "markdown",
   "metadata": {},
   "source": [
    "## Операции с множествами"
   ]
  },
  {
   "cell_type": "markdown",
   "metadata": {},
   "source": [
    "Объединение множеств - union()"
   ]
  },
  {
   "cell_type": "code",
   "execution_count": 12,
   "metadata": {},
   "outputs": [
    {
     "data": {
      "text/plain": [
       "{1, 2, 3, 4, 5}"
      ]
     },
     "execution_count": 12,
     "metadata": {},
     "output_type": "execute_result"
    }
   ],
   "source": [
    "a = FiniteSet(1, 2, 3)\n",
    "b = FiniteSet(3, 4, 5)\n",
    "a.union(b)"
   ]
  },
  {
   "cell_type": "markdown",
   "metadata": {},
   "source": [
    "Пересечение множеств - intersect()"
   ]
  },
  {
   "cell_type": "code",
   "execution_count": 13,
   "metadata": {},
   "outputs": [
    {
     "data": {
      "text/plain": [
       "{3}"
      ]
     },
     "execution_count": 13,
     "metadata": {},
     "output_type": "execute_result"
    }
   ],
   "source": [
    "a.intersect(b)"
   ]
  },
  {
   "cell_type": "markdown",
   "metadata": {},
   "source": [
    "Операции можно проводить и для нескольких множеств сразу"
   ]
  },
  {
   "cell_type": "code",
   "execution_count": 15,
   "metadata": {},
   "outputs": [],
   "source": [
    "a = FiniteSet(1, 2, 3)\n",
    "b = FiniteSet(3, 4, 5)\n",
    "c = FiniteSet(3, 6, 7)"
   ]
  },
  {
   "cell_type": "code",
   "execution_count": 16,
   "metadata": {},
   "outputs": [
    {
     "data": {
      "text/plain": [
       "{1, 2, 3, 4, 5, 6, 7}"
      ]
     },
     "execution_count": 16,
     "metadata": {},
     "output_type": "execute_result"
    }
   ],
   "source": [
    "a.union(b).union(c)"
   ]
  },
  {
   "cell_type": "code",
   "execution_count": 17,
   "metadata": {},
   "outputs": [
    {
     "data": {
      "text/plain": [
       "{3}"
      ]
     },
     "execution_count": 17,
     "metadata": {},
     "output_type": "execute_result"
    }
   ],
   "source": [
    "a.intersect(b).intersect(c)"
   ]
  },
  {
   "cell_type": "markdown",
   "metadata": {},
   "source": [
    "Декартово произведение"
   ]
  },
  {
   "cell_type": "code",
   "execution_count": 18,
   "metadata": {},
   "outputs": [
    {
     "data": {
      "text/plain": [
       "{1, 2} x {3, 4}"
      ]
     },
     "execution_count": 18,
     "metadata": {},
     "output_type": "execute_result"
    }
   ],
   "source": [
    "x = FiniteSet(1, 2)\n",
    "y = FiniteSet(3, 4)\n",
    "p = x * y\n",
    "p"
   ]
  },
  {
   "cell_type": "code",
   "execution_count": 19,
   "metadata": {},
   "outputs": [
    {
     "name": "stdout",
     "output_type": "stream",
     "text": [
      "(1, 3)\n",
      "(1, 4)\n",
      "(2, 3)\n",
      "(2, 4)\n"
     ]
    }
   ],
   "source": [
    "for el in p: print(el)"
   ]
  },
  {
   "cell_type": "code",
   "execution_count": 26,
   "metadata": {},
   "outputs": [],
   "source": [
    "x_x = x ** 3"
   ]
  },
  {
   "cell_type": "code",
   "execution_count": 27,
   "metadata": {},
   "outputs": [
    {
     "name": "stdout",
     "output_type": "stream",
     "text": [
      "(1, 1, 1)\n",
      "(1, 1, 2)\n",
      "(1, 2, 1)\n",
      "(1, 2, 2)\n",
      "(2, 1, 1)\n",
      "(2, 1, 2)\n",
      "(2, 2, 1)\n",
      "(2, 2, 2)\n"
     ]
    }
   ],
   "source": [
    "for el in x_x: print(el)"
   ]
  },
  {
   "cell_type": "markdown",
   "metadata": {},
   "source": [
    "\\begin{align}\n",
    "T = 2 \\pi \\sqrt{ \\frac{L}{g}}\n",
    "\\end{align}"
   ]
  },
  {
   "cell_type": "code",
   "execution_count": 30,
   "metadata": {},
   "outputs": [],
   "source": [
    "import scipy.constants as const"
   ]
  },
  {
   "cell_type": "code",
   "execution_count": 32,
   "metadata": {},
   "outputs": [],
   "source": [
    "def time_period(length):\n",
    "    T = 2 * const.pi * (length / const.g) ** 0.5\n",
    "    return T"
   ]
  },
  {
   "cell_type": "code",
   "execution_count": 34,
   "metadata": {},
   "outputs": [
    {
     "name": "stdout",
     "output_type": "stream",
     "text": [
      "Length: 15.0 cm, Time Period: 0.777 s\n",
      "Length: 18.0 cm, Time Period: 0.851 s\n",
      "Length: 21.0 cm, Time Period: 0.919 s\n",
      "Length: 22.5 cm, Time Period: 0.952 s\n",
      "Length: 25.0 cm, Time Period: 1.003 s\n"
     ]
    }
   ],
   "source": [
    "if __name__ == '__main__':\n",
    "    L = FiniteSet(15, 18, 21, 22.5, 25)\n",
    "    for l in L:\n",
    "        t = time_period(l/100)\n",
    "        print('Length: {0} cm, Time Period: {1:.3f} s'.format(float(l), float(t)))"
   ]
  },
  {
   "cell_type": "code",
   "execution_count": 35,
   "metadata": {},
   "outputs": [],
   "source": [
    "def dif_g_time_period(length, g):\n",
    "    T = 2 * const.pi * (length / g) ** 0.5\n",
    "    return T"
   ]
  },
  {
   "cell_type": "code",
   "execution_count": 37,
   "metadata": {},
   "outputs": [
    {
     "name": "stdout",
     "output_type": "stream",
     "text": [
      "  Length(cm)   Gravity(m/s^2)  Time Period() \n",
      "     15.0           9.78           0.778     \n",
      "     15.0            9.8           0.777     \n",
      "     15.0           9.83           0.776     \n",
      "     18.0           9.78           0.852     \n",
      "     18.0            9.8           0.852     \n",
      "     18.0           9.83           0.850     \n",
      "     21.0           9.78           0.921     \n",
      "     21.0            9.8           0.920     \n",
      "     21.0           9.83           0.918     \n",
      "     22.5           9.78           0.953     \n",
      "     22.5            9.8           0.952     \n",
      "     22.5           9.83           0.951     \n",
      "     25.0           9.78           1.005     \n",
      "     25.0            9.8           1.004     \n",
      "     25.0           9.83           1.002     \n"
     ]
    }
   ],
   "source": [
    "if __name__ == '__main__':\n",
    "    L = FiniteSet(15, 18, 21, 22.5, 25)\n",
    "    g_values = FiniteSet(9.8, 9.78, 9.83)\n",
    "    print('{0:^15}{1:^15}{2:^15}'.format(\"Length(cm)\", 'Gravity(m/s^2)', 'Time Period()'))\n",
    "    for el in L * g_values:\n",
    "        l = el[0]\n",
    "        g = el[1]\n",
    "        t = dif_g_time_period(l/100, g)\n",
    "        print('{0:^15}{1:^15}{2:^15.3f}'.format(float(l), float(g), float(t)))"
   ]
  },
  {
   "cell_type": "markdown",
   "metadata": {},
   "source": [
    "# Вероятности"
   ]
  },
  {
   "cell_type": "markdown",
   "metadata": {},
   "source": [
    "\\begin{align}\n",
    "P(E) = \\frac{n(E)}{n(S)}\n",
    "\\end{align}"
   ]
  },
  {
   "cell_type": "code",
   "execution_count": 38,
   "metadata": {},
   "outputs": [],
   "source": [
    "def probability(space, event):\n",
    "    return len(event) / len(space)"
   ]
  },
  {
   "cell_type": "code",
   "execution_count": 39,
   "metadata": {},
   "outputs": [],
   "source": [
    "def check_prime(number):\n",
    "    if number != 1:\n",
    "        for factor in range(2, number):\n",
    "            if number % factor == 0:\n",
    "                return False\n",
    "    else:\n",
    "        return False\n",
    "    return True # крутая структура проверки условий - надо запомнить, что срабатывает первый return"
   ]
  },
  {
   "cell_type": "code",
   "execution_count": 41,
   "metadata": {},
   "outputs": [
    {
     "name": "stdout",
     "output_type": "stream",
     "text": [
      "Sample space: {1, 2, 3, ..., 18, 19, 20}\n",
      "Event: {2, 3, 5, 7, 11, 13, 17, 19}\n",
      "Probability of rolling a prime: 0.40000\n"
     ]
    }
   ],
   "source": [
    "if __name__ == '__main__':\n",
    "    space = FiniteSet(* range(1, 21)) #так можно распаковывать!\n",
    "    primes = []\n",
    "    for num in space:\n",
    "        if check_prime(num):\n",
    "            primes.append(num)\n",
    "    event = FiniteSet(*primes) # еще раз о распаковке кортежей\n",
    "    p = probability(space, event)\n",
    "    \n",
    "    print('Sample space: {0}'.format(space))\n",
    "    print('Event: {0}'.format(event))\n",
    "    print('Probability of rolling a prime: {0:.5f}'.format(p))"
   ]
  },
  {
   "cell_type": "markdown",
   "metadata": {},
   "source": [
    "## Вероятность наступления одного из событий"
   ]
  },
  {
   "cell_type": "markdown",
   "metadata": {},
   "source": [
    "Допустим, учтем определим вероятность того, что на кубике выпадет:\n",
    "простое число\n",
    "или\n",
    "нечетное число"
   ]
  },
  {
   "cell_type": "code",
   "execution_count": 42,
   "metadata": {},
   "outputs": [],
   "source": [
    "all_num = FiniteSet(* range(1, 7))\n",
    "odd_num = FiniteSet(1, 3, 5)\n",
    "prime_num = FiniteSet(2, 3, 5)"
   ]
  },
  {
   "cell_type": "code",
   "execution_count": 43,
   "metadata": {},
   "outputs": [],
   "source": [
    "def two_event_probability(space, ev1, ev2):\n",
    "    two_event = ev1.union(ev2)\n",
    "    return len(two_event) / len(space)"
   ]
  },
  {
   "cell_type": "code",
   "execution_count": 44,
   "metadata": {},
   "outputs": [
    {
     "data": {
      "text/plain": [
       "0.6666666666666666"
      ]
     },
     "execution_count": 44,
     "metadata": {},
     "output_type": "execute_result"
    }
   ],
   "source": [
    "two_event_probability(all_num, odd_num, prime_num)"
   ]
  },
  {
   "cell_type": "code",
   "execution_count": 45,
   "metadata": {},
   "outputs": [],
   "source": [
    "def both_event_probability(space, ev1, ev2):\n",
    "    two_event = ev1.intersect(ev2)\n",
    "    return len(two_event) / len(space)"
   ]
  },
  {
   "cell_type": "code",
   "execution_count": 46,
   "metadata": {},
   "outputs": [
    {
     "data": {
      "text/plain": [
       "0.3333333333333333"
      ]
     },
     "execution_count": 46,
     "metadata": {},
     "output_type": "execute_result"
    }
   ],
   "source": [
    "both_event_probability(all_num, odd_num, prime_num)"
   ]
  },
  {
   "cell_type": "markdown",
   "metadata": {},
   "source": [
    "## Random module"
   ]
  },
  {
   "cell_type": "code",
   "execution_count": 48,
   "metadata": {},
   "outputs": [],
   "source": [
    "import random"
   ]
  },
  {
   "cell_type": "code",
   "execution_count": 49,
   "metadata": {},
   "outputs": [],
   "source": [
    "def roll():\n",
    "    return random.randint(1, 6)"
   ]
  },
  {
   "cell_type": "code",
   "execution_count": 53,
   "metadata": {},
   "outputs": [],
   "source": [
    "def attempt_counter(target_score):\n",
    "    score = 0\n",
    "    num_rolls = 0\n",
    "    while score < target_score:\n",
    "        die_roll = roll()\n",
    "        num_rolls += 1\n",
    "        print('Rolled: {0}'.format(die_roll))\n",
    "        score += die_roll\n",
    "    \n",
    "    print('Score of {0} reached in {1} rolls'.format(score, num_rolls))"
   ]
  },
  {
   "cell_type": "code",
   "execution_count": 54,
   "metadata": {},
   "outputs": [
    {
     "name": "stdout",
     "output_type": "stream",
     "text": [
      "Rolled: 5\n",
      "Rolled: 4\n",
      "Rolled: 4\n",
      "Rolled: 6\n",
      "Rolled: 6\n",
      "Score of 25 reached in 5 rolls\n"
     ]
    }
   ],
   "source": [
    "if __name__ == '__main__':\n",
    "    attempt_counter(20)"
   ]
  },
  {
   "cell_type": "code",
   "execution_count": 57,
   "metadata": {},
   "outputs": [],
   "source": [
    "def find_prob(target_score, max_rools):\n",
    "    die_sides = FiniteSet(1, 2, 3, 4, 5, 6)\n",
    "    s = die_sides ** max_rolls\n",
    "    if max_rolls > 1:\n",
    "        success_rolls = []\n",
    "        for elem in s:\n",
    "            if sum(elem) >= target_score:\n",
    "                success_rolls.append(elem)\n",
    "    else:\n",
    "        if target_score > 6:\n",
    "            sucess_rolls = []\n",
    "        else:\n",
    "            success_rolls = []\n",
    "            for roll in die_sides:\n",
    "                if roll > target_score:\n",
    "                    success_rolls.append(roll)\n",
    "    e = FiniteSet(* success_rolls)\n",
    "    return len(e)/len(s)"
   ]
  },
  {
   "cell_type": "code",
   "execution_count": 61,
   "metadata": {},
   "outputs": [
    {
     "name": "stdout",
     "output_type": "stream",
     "text": [
      "Enter the target score: 25\n",
      "Enter the maximum number of rolls allowed: 5\n",
      "Probability: 0.03241\n"
     ]
    }
   ],
   "source": [
    "if __name__ == '__main__':\n",
    "    target_score = int(input('Enter the target score: '))\n",
    "    max_rolls = int(input('Enter the maximum number of rolls allowed: '))\n",
    "    p = find_prob(target_score, max_rolls)\n",
    "    print('Probability: {0:.5f}'.format(p))"
   ]
  },
  {
   "cell_type": "code",
   "execution_count": 62,
   "metadata": {},
   "outputs": [
    {
     "name": "stdout",
     "output_type": "stream",
     "text": [
      "0.5960611343452558\n"
     ]
    }
   ],
   "source": [
    "a = random.random() # число от 0 до 1\n",
    "print(a)"
   ]
  },
  {
   "cell_type": "code",
   "execution_count": 63,
   "metadata": {},
   "outputs": [],
   "source": [
    "def get_index(probability):\n",
    "    c_probability = 0\n",
    "    sum_probability = []\n",
    "    for p in probability:\n",
    "        c_probability += p\n",
    "        sum_probability.append(c_probability)\n",
    "    r = random.random()\n",
    "    for index, sp in enumerate(sum_probability):\n",
    "        if r <= sp:\n",
    "            return index\n",
    "    return len(probability) - 1"
   ]
  },
  {
   "cell_type": "code",
   "execution_count": 64,
   "metadata": {},
   "outputs": [],
   "source": [
    "def dispence():\n",
    "    dollar_bills = [5, 10, 20, 50]\n",
    "    probability = [1/6, 1/6, 1/3, 2/3]\n",
    "    bill_index = get_index(probability)\n",
    "    return dollar_index[bill_index]"
   ]
  },
  {
   "cell_type": "code",
   "execution_count": null,
   "metadata": {},
   "outputs": [],
   "source": []
  },
  {
   "cell_type": "code",
   "execution_count": null,
   "metadata": {},
   "outputs": [],
   "source": []
  }
 ],
 "metadata": {
  "kernelspec": {
   "display_name": "Python 3",
   "language": "python",
   "name": "python3"
  },
  "language_info": {
   "codemirror_mode": {
    "name": "ipython",
    "version": 3
   },
   "file_extension": ".py",
   "mimetype": "text/x-python",
   "name": "python",
   "nbconvert_exporter": "python",
   "pygments_lexer": "ipython3",
   "version": "3.6.7"
  }
 },
 "nbformat": 4,
 "nbformat_minor": 2
}
